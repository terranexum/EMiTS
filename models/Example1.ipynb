{
  "nbformat": 4,
  "nbformat_minor": 0,
  "metadata": {
    "colab": {
      "provenance": [],
      "toc_visible": true,
      "authorship_tag": "ABX9TyNDZwXMBfgE1owtTnq2N94o",
      "include_colab_link": true
    },
    "kernelspec": {
      "name": "python3",
      "display_name": "Python 3"
    },
    "language_info": {
      "name": "python"
    }
  },
  "cells": [
    {
      "cell_type": "markdown",
      "metadata": {
        "id": "view-in-github",
        "colab_type": "text"
      },
      "source": [
        "<a href=\"https://colab.research.google.com/github/terranexum/EMiTS/blob/main/models/Example1.ipynb\" target=\"_parent\"><img src=\"https://colab.research.google.com/assets/colab-badge.svg\" alt=\"Open In Colab\"/></a>"
      ]
    },
    {
      "cell_type": "markdown",
      "source": [
        "# Applying EMiTS for Renewable Energy Expansion"
      ],
      "metadata": {
        "id": "4m57FMVRhHUP"
      }
    },
    {
      "cell_type": "markdown",
      "source": [
        "A usage example of the EMiTS metric outlined in the open source project at https://github.com/terranexum/EMiTS. Contributions are welcome."
      ],
      "metadata": {
        "id": "AxPd2lv1hRdo"
      }
    },
    {
      "cell_type": "code",
      "execution_count": null,
      "metadata": {
        "id": "AO6im4pxgEK3"
      },
      "outputs": [],
      "source": [
        "import math\n",
        "from enum import Enum"
      ]
    },
    {
      "cell_type": "markdown",
      "source": [
        "## Defining EMiTS"
      ],
      "metadata": {
        "id": "W1nlJzHahmhE"
      }
    },
    {
      "cell_type": "code",
      "source": [
        "'''\n",
        "Elements are any products or services that can be transacted. They are named so \n",
        "because they are the basic elements of exchange in any economic transaction.\n",
        "'''\n",
        "\n",
        "# class syntax\n",
        "class EType(Enum):\n",
        "    PRODUCT = 1\n",
        "    SERVICE = 2\n",
        "\n",
        "class Element: \n",
        "\n",
        "    def __init__(self, etype):\n",
        "      self.E = 1\n",
        "      self.M = 1\n",
        "      self.I = 1\n",
        "      self.T = 1\n",
        "      self.S = 1\n",
        "      self.etype = etype\n",
        "      self.value = (M * S) / (E * T)\n",
        "\n",
        "    def getPrice(self, E=1, M=1, I=1, T=1, S=1):\n",
        "      self.E = E\n",
        "      self.M = M\n",
        "      self.I = I\n",
        "      self.T = T\n",
        "      self.S = S\n",
        "      self.value = (M * S) / (E * T)\n",
        "      return self.value\n",
        "\n",
        "\n",
        "\n",
        "item = Element(EType.PRODUCT)\n",
        "item_price = item.getPrice(E=1, M=1, I=1, T=1, S=1)"
      ],
      "metadata": {
        "id": "MSralRlVhlHk"
      },
      "execution_count": null,
      "outputs": []
    }
  ]
}